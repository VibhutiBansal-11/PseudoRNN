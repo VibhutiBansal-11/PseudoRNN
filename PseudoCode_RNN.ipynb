{
 "cells": [
  {
   "cell_type": "code",
   "execution_count": null,
   "metadata": {},
   "outputs": [],
   "source": [
    "import tensorflow as tf\n",
    "import keras\n",
    "import sound\n",
    "from tensorflow.keras.models import Sequential\n",
    "from keras.layers import Input, Dense, Add ,Dropout\n",
    "from keras.layers.recurrent import GRU\n",
    "from keras.models import Model\n",
    "import keras.backend as K\n",
    "from keras.optimizers import SGD"
   ]
  },
  {
   "cell_type": "code",
   "execution_count": 1,
   "metadata": {},
   "outputs": [
    {
     "data": {
      "image/png": "[encoded data removed]",
      "text/plain": [
       "<Figure size 432x288 with 1 Axes>"
      ]
     },
     "metadata": {
      "needs_background": "light"
     },
     "output_type": "display_data"
    },
    {
     "data": {
      "text/plain": [
       "(16000,)"
      ]
     },
     "execution_count": 1,
     "metadata": {},
     "output_type": "execute_result"
    }
   ],
   "source": [
    "#Convert wav file to spectrogram \n",
    "import matplotlib.pyplot as plt\n",
    "from scipy import signal\n",
    "from scipy.io import wavfile\n",
    "\n",
    "sample_rate, samples = wavfile.read(r'D:\\speech_commands_v0.02\\bird\\00f0204f_nohash_0.wav')\n",
    "frequencies, times, spectrogram = signal.spectrogram(samples, sample_rate)\n",
    "#input in rnn would go as frequency,time\n",
    "plt.pcolormesh(times, frequencies, spectrogram)\n",
    "plt.imshow(spectrogram)\n",
    "plt.ylabel('Frequency [Hz]')\n",
    "plt.xlabel('Time [sec]')\n",
    "plt.show()\n",
    "\n",
    "samples.shape\n",
    "#input in rnn would go as frequency,time"
   ]
  },
  {
   "cell_type": "code",
   "execution_count": null,
   "metadata": {},
   "outputs": [],
   "source": [
    "#building model\n",
    "def clip_relu(x):\n",
    "    if x<0:\n",
    "        return(0)\n",
    "    elif ((x>0) and (x<20)):\n",
    "        return x\n",
    "    else:\n",
    "        return(20)"
   ]
  },
  {
   "cell_type": "code",
   "execution_count": null,
   "metadata": {},
   "outputs": [],
   "source": [
    "def ctc_loss(y_pred,y_true):\n",
    "    input_length = tf.constant((5,1))\n",
    "    label_length = tf.constant((5,1))\n",
    "    return K.mean(K.ctc_batch_cost(K.batch_flatten(y_true), y_pred, input_length, label_length), axis=-1)"
   ]
  },
  {
   "cell_type": "code",
   "execution_count": null,
   "metadata": {},
   "outputs": [],
   "source": [
    "#topology \n",
    "L1 = Dense(64, activation=clip_relu)\n",
    "L1 = Dropout(0.1)\n",
    "L2 = Dense(64,activation=clip_relu)\n",
    "L2 = Dropout(0.1)\n",
    "L3 = Dense(64, activation=clip_relu)\n",
    "L3 = Dropout(0.1)\n",
    "Lb = GRU(64, go_backwards=True, return_sequences=True)\n",
    "Lf = GRU(64,return_sequences=True)\n",
    "L5 = Dense(64, activation=clip_relu)\n",
    "L6 = Dense(29, activation = 'softmax')\n",
    "keras.optimizers.SGD(learning_rate=0.01, momentum=0.99, nesterov=True) \n",
    "model.compile(loss=ctc_loss, metrics=['accuracy'], optimizer=sgd) "
   ]
  },
  {
   "cell_type": "code",
   "execution_count": null,
   "metadata": {},
   "outputs": [],
   "source": []
  }
 ],
 "metadata": {
  "kernelspec": {
   "display_name": "Python 3",
   "language": "python",
   "name": "python3"
  },
  "language_info": {
   "codemirror_mode": {
    "name": "ipython",
    "version": 3
   },
   "file_extension": ".py",
   "mimetype": "text/x-python",
   "name": "python",
   "nbconvert_exporter": "python",
   "pygments_lexer": "ipython3",
   "version": "3.7.4"
  }
 },
 "nbformat": 4,
 "nbformat_minor": 4
}
